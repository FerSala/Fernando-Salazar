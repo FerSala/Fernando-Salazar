{
 "cells": [
  {
   "cell_type": "markdown",
   "id": "653ba6aa",
   "metadata": {},
   "source": [
    " # Aprendizaje Automático:\n",
    " # Tarea #1\n",
    " \n",
    "Estudiantes:\n",
    "\n",
    "**Fernando Salazar Arguedas**\n",
    "\n",
    "207160883\n"
   ]
  },
  {
   "cell_type": "markdown",
   "id": "81a08365",
   "metadata": {},
   "source": [
    "**Librerias importadas para el ejercicio:**"
   ]
  },
  {
   "cell_type": "code",
   "execution_count": 106,
   "id": "fbd5571a",
   "metadata": {},
   "outputs": [],
   "source": [
    "import numpy as np\n",
    "import matplotlib\n",
    "import pandas as pd\n",
    "import sklearn as preprocessing\n",
    "\n",
    "from sklearn import preprocessing\n",
    "from sklearn.preprocessing import LabelEncoder, OneHotEncoder, StandardScaler\n",
    "from sklearn.compose import make_column_transformer"
   ]
  },
  {
   "cell_type": "markdown",
   "id": "75897db2",
   "metadata": {},
   "source": [
    "**Carga de datos del ejercicio utilizando la libreria \"pandas\":**"
   ]
  },
  {
   "cell_type": "code",
   "execution_count": 58,
   "id": "efe9c6d7",
   "metadata": {
    "scrolled": true
   },
   "outputs": [
    {
     "name": "stdout",
     "output_type": "stream",
     "text": [
      "            Date  Temp\n",
      "0       1/1/1981  20.7\n",
      "1       1/2/1981  17.9\n",
      "2       1/3/1981  18.8\n",
      "3       1/4/1981  14.6\n",
      "4       1/5/1981  15.8\n",
      "...          ...   ...\n",
      "3645  12/27/1990  14.0\n",
      "3646  12/28/1990  13.6\n",
      "3647  12/29/1990  13.5\n",
      "3648  12/30/1990  15.7\n",
      "3649  12/31/1990  13.0\n",
      "\n",
      "[3650 rows x 2 columns]\n"
     ]
    }
   ],
   "source": [
    "filename = 'daily-min-temperatures.csv'\n",
    "df = pd.read_csv(filename, header=0)\n",
    "\n",
    "print(df)"
   ]
  },
  {
   "cell_type": "markdown",
   "id": "922160a0",
   "metadata": {},
   "source": [
    "**Converción de la columna \"Date\" a valores numéricos por medio de \"LabelEncoder\" de la librería \"sklearn\":**"
   ]
  },
  {
   "cell_type": "code",
   "execution_count": 85,
   "id": "4eecf156",
   "metadata": {},
   "outputs": [],
   "source": [
    "label = LabelEncoder()"
   ]
  },
  {
   "cell_type": "code",
   "execution_count": 94,
   "id": "108c746a",
   "metadata": {},
   "outputs": [],
   "source": [
    "df['Date'] = label.fit_transform(df['Date'])"
   ]
  },
  {
   "cell_type": "markdown",
   "id": "6004e4b4",
   "metadata": {},
   "source": [
    "**Normalización de datos de forma manual:**\n",
    "\n",
    "Se utilizó la normalización MinMax. El resultado de la normalización resta el valor mínimo de Dataframe y lo divide por la diferencia entre el valor más alto y el más bajo de la columna correspondiente."
   ]
  },
  {
   "cell_type": "code",
   "execution_count": 95,
   "id": "3bc3da3b",
   "metadata": {},
   "outputs": [
    {
     "name": "stdout",
     "output_type": "stream",
     "text": [
      "          Date      Temp\n",
      "0     0.000000  0.787072\n",
      "1     0.030145  0.680608\n",
      "2     0.060290  0.714829\n",
      "3     0.068512  0.555133\n",
      "4     0.071252  0.600760\n",
      "...        ...       ...\n",
      "3645  0.306659  0.532319\n",
      "3646  0.309400  0.517110\n",
      "3647  0.312140  0.513308\n",
      "3648  0.317621  0.596958\n",
      "3649  0.319814  0.494297\n",
      "\n",
      "[3650 rows x 2 columns]\n"
     ]
    }
   ],
   "source": [
    "def minmax_norm(df_input):\n",
    "    return (df - df.min()) / ( df.max() - df.min())\n",
    "\n",
    "normalizacion = minmax_norm(df)\n",
    "\n",
    "print(normalizacion)"
   ]
  },
  {
   "cell_type": "markdown",
   "id": "ebbe39fb",
   "metadata": {},
   "source": [
    "**Normalización de datos de forma automática:**\n",
    "\n",
    "Se utilizó la herramienta de la libreria \"sklearn\" llamada \"MinMaxScaler\"; para la normalización de forma automática del dataframe."
   ]
  },
  {
   "cell_type": "code",
   "execution_count": 108,
   "id": "abc7bc89",
   "metadata": {},
   "outputs": [
    {
     "name": "stdout",
     "output_type": "stream",
     "text": [
      "[[0.         0.78707224]\n",
      " [0.03014525 0.68060837]\n",
      " [0.06029049 0.7148289 ]\n",
      " ...\n",
      " [0.31214031 0.51330798]\n",
      " [0.31762127 0.59695817]\n",
      " [0.31981365 0.49429658]]\n"
     ]
    }
   ],
   "source": [
    "min_max = preprocessing.MinMaxScaler()\n",
    "\n",
    "df_normalizado = min_max.fit_transform(df)\n",
    "\n",
    "print(df_normalizado )"
   ]
  },
  {
   "cell_type": "markdown",
   "id": "f17b54f9",
   "metadata": {},
   "source": [
    "**Estandarización de datos de forma manual:**\n",
    "\n",
    "Esta fórmula utiliza la media para cada una de las columnas y luego resta la media para cada fila (la media de la columna particular se resta solo de su fila) y se divide solo por la media."
   ]
  },
  {
   "cell_type": "code",
   "execution_count": 113,
   "id": "d4452f9e",
   "metadata": {},
   "outputs": [
    {
     "name": "stdout",
     "output_type": "stream",
     "text": [
      "          Date      Temp\n",
      "0    -1.000000  0.851893\n",
      "1    -0.939710  0.601395\n",
      "2    -0.879419  0.681912\n",
      "3    -0.862976  0.306166\n",
      "4    -0.857495  0.413522\n",
      "...        ...       ...\n",
      "3645 -0.386681  0.252488\n",
      "3646 -0.381200  0.216702\n",
      "3647 -0.375719  0.207756\n",
      "3648 -0.364757  0.404576\n",
      "3649 -0.360373  0.163024\n",
      "\n",
      "[3650 rows x 2 columns]\n"
     ]
    }
   ],
   "source": [
    "df_estandarizado = df.sub(df.mean(axis=0), axis=1)/df.mean(axis=0)\n",
    "\n",
    "print(df_estandarizado)"
   ]
  },
  {
   "cell_type": "markdown",
   "id": "a6646d4f",
   "metadata": {},
   "source": [
    "**Estandarización de datos de forma automática:**\n",
    "\n",
    "Se utilizó la herramienta de la libreria \"sklearn\" llamada \"StandardScaler\"; para la estandarización de forma automática del dataframe."
   ]
  },
  {
   "cell_type": "code",
   "execution_count": 101,
   "id": "017ede56",
   "metadata": {},
   "outputs": [
    {
     "name": "stdout",
     "output_type": "stream",
     "text": [
      "[[-1.73157634  2.33888328]\n",
      " [-1.62717875  1.65113873]\n",
      " [-1.52278116  1.87219948]\n",
      " ...\n",
      " [-0.65058678  0.5703973 ]\n",
      " [-0.6316054   1.11076801]\n",
      " [-0.62401285  0.44758577]]\n"
     ]
    }
   ],
   "source": [
    "sc = StandardScaler()\n",
    "estandarizacion = sc.fit_transform(df)\n",
    "\n",
    "print(estandarizacion)"
   ]
  }
 ],
 "metadata": {
  "kernelspec": {
   "display_name": "Python 3",
   "language": "python",
   "name": "python3"
  },
  "language_info": {
   "codemirror_mode": {
    "name": "ipython",
    "version": 3
   },
   "file_extension": ".py",
   "mimetype": "text/x-python",
   "name": "python",
   "nbconvert_exporter": "python",
   "pygments_lexer": "ipython3",
   "version": "3.8.8"
  }
 },
 "nbformat": 4,
 "nbformat_minor": 5
}
